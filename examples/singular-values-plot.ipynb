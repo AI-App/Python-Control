{
 "cells": [
  {
   "cell_type": "code",
   "execution_count": 1,
   "id": "turned-perspective",
   "metadata": {},
   "outputs": [
    {
     "ename": "ModuleNotFoundError",
     "evalue": "No module named 'control'",
     "output_type": "error",
     "traceback": [
      "\u001b[0;31m---------------------------------------------------------------------------\u001b[0m",
      "\u001b[0;31mModuleNotFoundError\u001b[0m                       Traceback (most recent call last)",
      "\u001b[0;32m<ipython-input-1-d169189f09ac>\u001b[0m in \u001b[0;36m<module>\u001b[0;34m\u001b[0m\n\u001b[1;32m      2\u001b[0m \u001b[0;32mimport\u001b[0m \u001b[0mscipy\u001b[0m \u001b[0;32mas\u001b[0m \u001b[0msp\u001b[0m\u001b[0;34m\u001b[0m\u001b[0;34m\u001b[0m\u001b[0m\n\u001b[1;32m      3\u001b[0m \u001b[0;32mimport\u001b[0m \u001b[0mmatplotlib\u001b[0m\u001b[0;34m.\u001b[0m\u001b[0mpyplot\u001b[0m \u001b[0;32mas\u001b[0m \u001b[0mplt\u001b[0m\u001b[0;34m\u001b[0m\u001b[0;34m\u001b[0m\u001b[0m\n\u001b[0;32m----> 4\u001b[0;31m \u001b[0;32mimport\u001b[0m \u001b[0mcontrol\u001b[0m \u001b[0;32mas\u001b[0m \u001b[0mct\u001b[0m\u001b[0;34m\u001b[0m\u001b[0;34m\u001b[0m\u001b[0m\n\u001b[0m",
      "\u001b[0;31mModuleNotFoundError\u001b[0m: No module named 'control'"
     ]
    }
   ],
   "source": [
    "import numpy as np\n",
    "import scipy as sp\n",
    "import matplotlib.pyplot as plt\n",
    "import control as ct"
   ]
  },
  {
   "cell_type": "code",
   "execution_count": null,
   "id": "sonic-flush",
   "metadata": {},
   "outputs": [],
   "source": [
    "%matplotlib nbagg\n",
    "# only needed when developing python-control\n",
    "%load_ext autoreload\n",
    "%autoreload 2"
   ]
  },
  {
   "cell_type": "markdown",
   "id": "german-steam",
   "metadata": {},
   "source": [
    "## Define continuous system"
   ]
  },
  {
   "cell_type": "code",
   "execution_count": null,
   "id": "public-nirvana",
   "metadata": {},
   "outputs": [],
   "source": [
    "# Distillation column model as in Equation (3.81) of Multivariable Feedback Control, Skogestad and Postlethwaite, 2st Edition.\n",
    "\n",
    "den = [75, 1]\n",
    "G = ct.tf([[[87.8], [-86.4]],\n",
    "          [[108.2], [-109.6]]],\n",
    "         [[den, den],\n",
    "          [den, den]])\n",
    "display(G)"
   ]
  },
  {
   "cell_type": "markdown",
   "id": "elementary-transmission",
   "metadata": {},
   "source": [
    "## Define sampled system"
   ]
  },
  {
   "cell_type": "code",
   "execution_count": null,
   "id": "amber-measurement",
   "metadata": {},
   "outputs": [],
   "source": [
    "sampleTime = 10\n",
    "display('Nyquist frequency: {:.4f} Hz, {:.4f} rad/sec'.format(1./sampleTime /2., 2*sp.pi*1./sampleTime /2.))"
   ]
  },
  {
   "cell_type": "code",
   "execution_count": null,
   "id": "rising-guard",
   "metadata": {},
   "outputs": [],
   "source": [
    "# MIMO discretization not implemented yet...\n",
    "\n",
    "Gd11 = ct.sample_system(G[0, 0], sampleTime, 'tustin')\n",
    "Gd12 = ct.sample_system(G[0, 1], sampleTime, 'tustin')\n",
    "Gd21 = ct.sample_system(G[1, 0], sampleTime, 'tustin')\n",
    "Gd22 = ct.sample_system(G[1, 1], sampleTime, 'tustin')\n",
    "\n",
    "Gd = ct.tf([[Gd11.num[0][0], Gd12.num[0][0]],\n",
    "            [Gd21.num[0][0], Gd22.num[0][0]]],\n",
    "           [[Gd11.den[0][0], Gd12.den[0][0]],\n",
    "            [Gd21.den[0][0], Gd22.den[0][0]]], dt=Gd11.dt)\n",
    "Gd"
   ]
  },
  {
   "cell_type": "markdown",
   "id": "inside-melbourne",
   "metadata": {},
   "source": [
    "## Draw Singular values plots"
   ]
  },
  {
   "cell_type": "markdown",
   "id": "pressed-swift",
   "metadata": {},
   "source": [
    "### Continuous-time system"
   ]
  },
  {
   "cell_type": "code",
   "execution_count": null,
   "id": "separate-bouquet",
   "metadata": {},
   "outputs": [],
   "source": [
    "omega = np.logspace(-4, 1, 1000)\n",
    "plt.figure()\n",
    "sigma_ct, omega_ct = ct.freqplot.singular_values_plot(G, omega);"
   ]
  },
  {
   "cell_type": "markdown",
   "id": "oriental-riverside",
   "metadata": {},
   "source": [
    "### Discrete-time system"
   ]
  },
  {
   "cell_type": "code",
   "execution_count": null,
   "id": "architectural-program",
   "metadata": {
    "scrolled": false
   },
   "outputs": [],
   "source": [
    "plt.figure()\n",
    "sigma_dt, omega_dt = ct.freqplot.singular_values_plot(Gd, omega);"
   ]
  },
  {
   "cell_type": "markdown",
   "id": "wicked-reproduction",
   "metadata": {},
   "source": [
    "### Continuous-time and discrete-time systems altogether"
   ]
  },
  {
   "cell_type": "code",
   "execution_count": null,
   "id": "divided-small",
   "metadata": {},
   "outputs": [],
   "source": [
    "plt.figure()\n",
    "ct.freqplot.singular_values_plot([G, Gd], omega);"
   ]
  },
  {
   "cell_type": "markdown",
   "id": "uniform-paintball",
   "metadata": {},
   "source": [
    "### Analysis in DC"
   ]
  },
  {
   "cell_type": "code",
   "execution_count": null,
   "id": "alike-holocaust",
   "metadata": {},
   "outputs": [],
   "source": [
    "G_dc = np.array([[87.8, -86.4],\n",
    "                 [108.2, -109.6]])"
   ]
  },
  {
   "cell_type": "code",
   "execution_count": null,
   "id": "behind-idaho",
   "metadata": {},
   "outputs": [],
   "source": [
    "U, S, V = np.linalg.svd(G_dc)"
   ]
  },
  {
   "cell_type": "code",
   "execution_count": null,
   "id": "danish-detroit",
   "metadata": {},
   "outputs": [],
   "source": [
    "S, sigma_ct[0]"
   ]
  }
 ],
 "metadata": {
  "kernelspec": {
   "display_name": "Python 3",
   "language": "python",
   "name": "python3"
  },
  "language_info": {
   "codemirror_mode": {
    "name": "ipython",
    "version": 3
   },
   "file_extension": ".py",
   "mimetype": "text/x-python",
   "name": "python",
   "nbconvert_exporter": "python",
   "pygments_lexer": "ipython3",
   "version": "3.9.2"
  }
 },
 "nbformat": 4,
 "nbformat_minor": 5
}
